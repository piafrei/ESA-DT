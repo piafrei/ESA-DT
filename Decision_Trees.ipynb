{
  "nbformat": 4,
  "nbformat_minor": 0,
  "metadata": {
    "colab": {
      "name": "Decision-Trees.ipynb",
      "provenance": [],
      "collapsed_sections": []
    },
    "kernelspec": {
      "name": "python3",
      "display_name": "Python 3"
    },
    "language_info": {
      "name": "python"
    }
  },
  "cells": [
    {
      "cell_type": "code",
      "source": [
        "from sklearn.tree import DecisionTreeClassifier\n",
        "from sklearn.tree import export_graphviz\n",
        "import pandas as pd\n",
        "\n",
        "# load dataset\n",
        "col_names = ['REC', 'Age', 'Income', 'Student', 'Credit_rating','Buys_computer']\n",
        "df = pd.read_csv(\"https://raw.githubusercontent.com/piafrei/ESA-DT/master/data.csv\", header=0, names=col_names)\n",
        "\n",
        "#split dataset in features and target variable\n",
        "feature_cols = col_names\n",
        "feature_cols.remove('Buys_computer')\n",
        "\n",
        "featureValues = df[feature_cols] \n",
        "targetValues = df['Buys_computer']\n",
        "\n",
        "# Create Decision Tree classifer object\n",
        "tree = DecisionTreeClassifier()\n",
        "\n",
        "one_hot_data = pd.get_dummies(featureValues,drop_first=True)\n",
        "tree.fit(one_hot_data, targetValues)\n",
        "\n",
        "export_graphviz(\n",
        "         tree,\n",
        "     out_file=\"D:\\GDRIVE\\DS-DATA\\JUPYTER-NOTEBOOKS\\IRIS-DecTree\\buy-computer-tree.dot\",\n",
        "         feature_names=one_hot_data.columns,\n",
        "         class_names=['Yes','No'],\n",
        "         rounded=True,\n",
        "         filled=True\n",
        " )"
      ],
      "metadata": {
        "id": "XbdFWOiGenJl"
      },
      "execution_count": 57,
      "outputs": []
    }
  ]
}